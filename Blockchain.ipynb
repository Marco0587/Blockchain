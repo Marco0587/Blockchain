{
  "nbformat": 4,
  "nbformat_minor": 0,
  "metadata": {
    "colab": {
      "name": "Blockchain.ipynb",
      "provenance": [],
      "collapsed_sections": [],
      "authorship_tag": "ABX9TyNSpqQVNaPra0WLGsRe7grY",
      "include_colab_link": true
    },
    "kernelspec": {
      "name": "python3",
      "display_name": "Python 3"
    }
  },
  "cells": [
    {
      "cell_type": "markdown",
      "metadata": {
        "id": "view-in-github",
        "colab_type": "text"
      },
      "source": [
        "<a href=\"https://colab.research.google.com/github/Marco0587/blockchain/blob/master/Blockchain.ipynb\" target=\"_parent\"><img src=\"https://colab.research.google.com/assets/colab-badge.svg\" alt=\"Open In Colab\"/></a>"
      ]
    },
    {
      "cell_type": "code",
      "metadata": {
        "id": "Q9cvFsQMXqN-",
        "colab_type": "code",
        "colab": {}
      },
      "source": [
        "import numpy as np\n",
        "import json\n",
        "from datetime import datetime"
      ],
      "execution_count": null,
      "outputs": []
    },
    {
      "cell_type": "code",
      "metadata": {
        "id": "jURzpG8vW_vf",
        "colab_type": "code",
        "colab": {}
      },
      "source": [
        "class Blockchain():\n",
        "    def __init__(self):\n",
        "        self.chain = []\n",
        "    \n",
        "    def add_block(self, proof, previous_hash = None):\n",
        "        block = {\n",
        "            'index': self.last_block['index'] + 1\n",
        "            'timestamp': str(datime.now())\n",
        "            'transactions': self.current_transactions\n",
        "            'previous_hash': previous_hash\n",
        "            'hash': \n",
        "        }\n",
        "        self.chain.append(block)\n",
        "    \n",
        "    def \n",
        "    \n",
        "    @property\n",
        "    def last_block(self):\n",
        "        return self.chain[-1]"
      ],
      "execution_count": null,
      "outputs": []
    }
  ]
}